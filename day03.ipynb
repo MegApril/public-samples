{
 "cells": [
  {
   "cell_type": "markdown",
   "id": "7ea8c4d1",
   "metadata": {},
   "source": [
    "# Day 3 Generating Random Arrays"
   ]
  },
  {
   "cell_type": "markdown",
   "id": "9719bd7d",
   "metadata": {},
   "source": [
    "## Prerequisites"
   ]
  },
  {
   "cell_type": "code",
   "execution_count": 1,
   "id": "c7697fb9",
   "metadata": {},
   "outputs": [],
   "source": [
    "# import required libraries\n",
    "import numpy as np\n",
    "import matplotlib.pyplot as plt"
   ]
  },
  {
   "cell_type": "markdown",
   "id": "650cfedc",
   "metadata": {},
   "source": [
    "## Q1:"
   ]
  },
  {
   "cell_type": "markdown",
   "id": "9ec88db2",
   "metadata": {},
   "source": [
    "Using NumPy create an array of random numbers between 0 and 1. The shape of the array must be (3, 4). Use seed to ensure that the results are reproducible."
   ]
  },
  {
   "cell_type": "code",
   "execution_count": 2,
   "id": "f56b5335",
   "metadata": {},
   "outputs": [
    {
     "data": {
      "text/plain": [
       "array([[0.36634692, 0.19929538, 0.08855837, 0.65319169],\n",
       "       [0.45933704, 0.98767562, 0.85156807, 0.83696132],\n",
       "       [0.05143877, 0.55534516, 0.60746453, 0.0501413 ]])"
      ]
     },
     "execution_count": 2,
     "metadata": {},
     "output_type": "execute_result"
    }
   ],
   "source": [
    "# Create random numbers between 0 and 1 and set seed so the random output is reproducible\n",
    "rng = np.random.default_rng(seed = 22)\n",
    "\n",
    "# Set shape of array and fill with random output\n",
    "rng.random(size = (3, 4))"
   ]
  },
  {
   "cell_type": "markdown",
   "id": "bc6a90ca",
   "metadata": {},
   "source": [
    "## Q2:"
   ]
  },
  {
   "cell_type": "markdown",
   "id": "71287c8b",
   "metadata": {},
   "source": [
    "Create an array of random integers between 0 and 10. The shape of the array must be (3, 4)."
   ]
  },
  {
   "cell_type": "code",
   "execution_count": 3,
   "id": "d5763d4c",
   "metadata": {},
   "outputs": [
    {
     "data": {
      "text/plain": [
       "array([[0, 6, 4, 6],\n",
       "       [2, 1, 6, 1],\n",
       "       [1, 6, 6, 8]])"
      ]
     },
     "execution_count": 3,
     "metadata": {},
     "output_type": "execute_result"
    }
   ],
   "source": [
    "# Create an array of random numbers and set a seed value so it is reproducible\n",
    "rng = np.random.default_rng(seed = 23)\n",
    "\n",
    "# Set upper and lower limits and size guidelines\n",
    "arr = rng.integers(low = 0, high = 10, size = (3, 4))\n",
    "arr"
   ]
  },
  {
   "cell_type": "markdown",
   "id": "3a992aed",
   "metadata": {},
   "source": [
    "## Q3:"
   ]
  },
  {
   "cell_type": "markdown",
   "id": "497740d6",
   "metadata": {},
   "source": [
    "Using NumPy, generate an array of 1000 random numbers from a standard normal distribution with a mean of 0 and a variance of 1. Create a histrogram with this array.  Use the seed parameter to ensure the results are reproducible."
   ]
  },
  {
   "cell_type": "code",
   "execution_count": 4,
   "id": "bf001ec2",
   "metadata": {},
   "outputs": [
    {
     "data": {
      "image/png": "[encoded data removed]",
      "text/plain": [
       "<Figure size 1000x800 with 1 Axes>"
      ]
     },
     "metadata": {},
     "output_type": "display_data"
    }
   ],
   "source": [
    "# Set parameters\n",
    "mean = 0\n",
    "variance = 1\n",
    "std_dev = np.sqrt(variance)\n",
    "\n",
    "# Make a random number generator\n",
    "rng = np.random.default_rng(seed=12)\n",
    "\n",
    "# Set random generator to an array with requirements\n",
    "# Naming the array 'x' since this array will be mapped to the x coordinates of the histogram\n",
    "x = rng.normal(loc=mean, scale=std_dev, size=1000)\n",
    "\n",
    "# Plot histogram\n",
    "plt.figure(figsize=(10, 8))\n",
    "plt.hist(x, bins = 20)\n",
    "plt.title('Histogram', fontsize = 22)\n",
    "plt.xlabel('Values from Random Number Generator')\n",
    "plt.ylabel('Frequency')\n",
    "plt.show()"
   ]
  },
  {
   "cell_type": "markdown",
   "id": "f4b5904b",
   "metadata": {},
   "source": [
    "## Q4:"
   ]
  },
  {
   "cell_type": "markdown",
   "id": "abe6d60f",
   "metadata": {},
   "source": [
    "`arr = [\"Orange\", \"Apple\", \"Pear\"]`\n",
    "Using random.choice() from NumPy, generate an array from the list above. The shape of the array must be (3, 4)."
   ]
  },
  {
   "cell_type": "code",
   "execution_count": 5,
   "id": "7c012bba",
   "metadata": {},
   "outputs": [
    {
     "data": {
      "text/plain": [
       "array([['Apple', 'Pear', 'Pear', 'Pear'],\n",
       "       ['Orange', 'Orange', 'Pear', 'Pear'],\n",
       "       ['Apple', 'Apple', 'Orange', 'Apple']], dtype='<U6')"
      ]
     },
     "execution_count": 5,
     "metadata": {},
     "output_type": "execute_result"
    }
   ],
   "source": [
    "# Define array\n",
    "fruit = np.array([\"Orange\", \"Apple\", \"Pear\"])\n",
    "\n",
    "# Use random choice to determine order of fruit in array and define size \n",
    "arr = np.random.choice(fruit, size = (3, 4))\n",
    "arr "
   ]
  }
 ],
 "metadata": {
  "kernelspec": {
   "display_name": "Python 3 (ipykernel)",
   "language": "python",
   "name": "python3"
  },
  "language_info": {
   "codemirror_mode": {
    "name": "ipython",
    "version": 3
   },
   "file_extension": ".py",
   "mimetype": "text/x-python",
   "name": "python",
   "nbconvert_exporter": "python",
   "pygments_lexer": "ipython3",
   "version": "3.10.9"
  }
 },
 "nbformat": 4,
 "nbformat_minor": 5
}
